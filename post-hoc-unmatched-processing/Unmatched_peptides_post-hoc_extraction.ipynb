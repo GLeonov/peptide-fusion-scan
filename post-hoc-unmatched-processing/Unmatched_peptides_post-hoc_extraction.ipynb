{
 "cells": [
  {
   "cell_type": "code",
   "execution_count": 1,
   "metadata": {},
   "outputs": [],
   "source": [
    "import itertools\n",
    "import pandas\n",
    "import re\n",
    "import tqdm\n",
    "\n",
    "from Bio import SeqIO"
   ]
  },
  {
   "cell_type": "code",
   "execution_count": 2,
   "metadata": {},
   "outputs": [],
   "source": [
    "# get processed data\n",
    "df_processed = pandas.read_excel('analysed/CONTROL_full_proteome_scan.xls')\n",
    "\n",
    "# process raw data\n",
    "df_db_matched = pandas.read_csv('data/N1_Normal_DB-matched_peptides.csv', dtype={'Scan': int})\n",
    "df_all_denovo = pandas.read_csv('data/N1_Normal_all_de_novo.csv', dtype={'ALC (\\%)': int, 'Scan': int})\n",
    "df_db_matched['Peptide'] = df_db_matched['Peptide'].apply(lambda x: re.sub(r'\\([^()]*\\)', '', x))\n",
    "df_all_denovo['Peptide'] = df_all_denovo['Peptide'].apply(lambda x: re.sub(r'\\([^()]*\\)', '', x))\n",
    "\n",
    "ref_db = {seq.name: str(seq.seq) for seq in SeqIO.parse('data/SPHu.fasta', 'fasta')}\n",
    "\n",
    "# selection of de novo (oroginal HLA) peptides for fusion candidate scan\n",
    "scan_ids_not_db_matched = set(df_all_denovo['Scan'].values) - set(df_db_matched['Scan'].values)\n",
    "df_all_denovo_unmatched = df_all_denovo[df_all_denovo['Scan'].isin(scan_ids_not_db_matched)]\n"
   ]
  },
  {
   "cell_type": "code",
   "execution_count": 3,
   "metadata": {},
   "outputs": [],
   "source": [
    "unmatched = set(df_all_denovo_unmatched.Scan.values) - set(df_processed.ScanID.values)\n",
    "unmatched_prior_to_scan = df_all_denovo_unmatched[df_all_denovo_unmatched['Scan'].isin(unmatched)]\n",
    "unmatched_prior_to_scan = unmatched_prior_to_scan[['Peptide', 'Scan', 'ALC (%)']].drop_duplicates()\n",
    "\n",
    "# method to run matching to proteome for unmatched_prior_to_scan - return and store if no match\n",
    "def peptide_in_reference_proteome(ref_db, peptide):\n",
    "    for protein_name, sequence in ref_db.items():\n",
    "        sequence = sequence.strip('X*')\n",
    "        if 'X' in sequence:\n",
    "            splitter = 'X'\n",
    "        else:\n",
    "            splitter = '*'\n",
    "        for ORF in sequence.split(splitter):\n",
    "            for match_data_large in re.finditer(peptide, ORF):\n",
    "                return True\n",
    "    return False\n",
    " "
   ]
  },
  {
   "cell_type": "code",
   "execution_count": 4,
   "metadata": {},
   "outputs": [
    {
     "name": "stderr",
     "output_type": "stream",
     "text": [
      "/usr/local/lib/python3.7/site-packages/ipykernel_launcher.py:19: TqdmDeprecationWarning: This function will be removed in tqdm==5.0.0\n",
      "Please use `tqdm.notebook.tqdm` instead of `tqdm.tqdm_notebook`\n"
     ]
    },
    {
     "data": {
      "application/vnd.jupyter.widget-view+json": {
       "model_id": "ffa23660f1ab434783d6ce1e67d05e07",
       "version_major": 2,
       "version_minor": 0
      },
      "text/plain": [
       "HBox(children=(IntProgress(value=0, max=78245), HTML(value='')))"
      ]
     },
     "metadata": {},
     "output_type": "display_data"
    },
    {
     "ename": "KeyboardInterrupt",
     "evalue": "",
     "output_type": "error",
     "traceback": [
      "\u001b[0;31m---------------------------------------------------------------------------\u001b[0m",
      "\u001b[0;31mKeyboardInterrupt\u001b[0m                         Traceback (most recent call last)",
      "\u001b[0;32m<ipython-input-4-1df019545af4>\u001b[0m in \u001b[0;36m<module>\u001b[0;34m\u001b[0m\n\u001b[1;32m     20\u001b[0m     \u001b[0mpeptide\u001b[0m \u001b[0;34m=\u001b[0m \u001b[0mvalues\u001b[0m\u001b[0;34m[\u001b[0m\u001b[0;34m'Peptide'\u001b[0m\u001b[0;34m]\u001b[0m\u001b[0;34m\u001b[0m\u001b[0;34m\u001b[0m\u001b[0m\n\u001b[1;32m     21\u001b[0m     \u001b[0;32mfor\u001b[0m \u001b[0mil_variant\u001b[0m \u001b[0;32min\u001b[0m \u001b[0m_create_combinations_with_isoleucines\u001b[0m\u001b[0;34m(\u001b[0m\u001b[0mpeptide\u001b[0m\u001b[0;34m)\u001b[0m\u001b[0;34m:\u001b[0m\u001b[0;34m\u001b[0m\u001b[0;34m\u001b[0m\u001b[0m\n\u001b[0;32m---> 22\u001b[0;31m         \u001b[0;32mif\u001b[0m \u001b[0mpeptide_in_reference_proteome\u001b[0m\u001b[0;34m(\u001b[0m\u001b[0mref_db\u001b[0m\u001b[0;34m,\u001b[0m \u001b[0mil_variant\u001b[0m\u001b[0;34m)\u001b[0m\u001b[0;34m:\u001b[0m\u001b[0;34m\u001b[0m\u001b[0;34m\u001b[0m\u001b[0m\n\u001b[0m\u001b[1;32m     23\u001b[0m             \u001b[0mmatched\u001b[0m\u001b[0;34m.\u001b[0m\u001b[0mappend\u001b[0m\u001b[0;34m(\u001b[0m\u001b[0;32mFalse\u001b[0m\u001b[0;34m)\u001b[0m\u001b[0;34m\u001b[0m\u001b[0;34m\u001b[0m\u001b[0m\n\u001b[1;32m     24\u001b[0m         \u001b[0;32melse\u001b[0m\u001b[0;34m:\u001b[0m\u001b[0;34m\u001b[0m\u001b[0;34m\u001b[0m\u001b[0m\n",
      "\u001b[0;32m<ipython-input-3-7c6a2318e3a9>\u001b[0m in \u001b[0;36mpeptide_in_reference_proteome\u001b[0;34m(ref_db, peptide)\u001b[0m\n\u001b[1;32m     12\u001b[0m             \u001b[0msplitter\u001b[0m \u001b[0;34m=\u001b[0m \u001b[0;34m'*'\u001b[0m\u001b[0;34m\u001b[0m\u001b[0;34m\u001b[0m\u001b[0m\n\u001b[1;32m     13\u001b[0m         \u001b[0;32mfor\u001b[0m \u001b[0mORF\u001b[0m \u001b[0;32min\u001b[0m \u001b[0msequence\u001b[0m\u001b[0;34m.\u001b[0m\u001b[0msplit\u001b[0m\u001b[0;34m(\u001b[0m\u001b[0msplitter\u001b[0m\u001b[0;34m)\u001b[0m\u001b[0;34m:\u001b[0m\u001b[0;34m\u001b[0m\u001b[0;34m\u001b[0m\u001b[0m\n\u001b[0;32m---> 14\u001b[0;31m             \u001b[0;32mfor\u001b[0m \u001b[0mmatch_data_large\u001b[0m \u001b[0;32min\u001b[0m \u001b[0mre\u001b[0m\u001b[0;34m.\u001b[0m\u001b[0mfinditer\u001b[0m\u001b[0;34m(\u001b[0m\u001b[0mpeptide\u001b[0m\u001b[0;34m,\u001b[0m \u001b[0mORF\u001b[0m\u001b[0;34m)\u001b[0m\u001b[0;34m:\u001b[0m\u001b[0;34m\u001b[0m\u001b[0;34m\u001b[0m\u001b[0m\n\u001b[0m\u001b[1;32m     15\u001b[0m                 \u001b[0;32mreturn\u001b[0m \u001b[0;32mTrue\u001b[0m\u001b[0;34m\u001b[0m\u001b[0;34m\u001b[0m\u001b[0m\n\u001b[1;32m     16\u001b[0m     \u001b[0;32mreturn\u001b[0m \u001b[0;32mFalse\u001b[0m\u001b[0;34m\u001b[0m\u001b[0;34m\u001b[0m\u001b[0m\n",
      "\u001b[0;32m/usr/local/Cellar/python/3.7.4/Frameworks/Python.framework/Versions/3.7/lib/python3.7/re.py\u001b[0m in \u001b[0;36mfinditer\u001b[0;34m(pattern, string, flags)\u001b[0m\n\u001b[1;32m    228\u001b[0m \u001b[0;34m\u001b[0m\u001b[0m\n\u001b[1;32m    229\u001b[0m     Empty matches are included in the result.\"\"\"\n\u001b[0;32m--> 230\u001b[0;31m     \u001b[0;32mreturn\u001b[0m \u001b[0m_compile\u001b[0m\u001b[0;34m(\u001b[0m\u001b[0mpattern\u001b[0m\u001b[0;34m,\u001b[0m \u001b[0mflags\u001b[0m\u001b[0;34m)\u001b[0m\u001b[0;34m.\u001b[0m\u001b[0mfinditer\u001b[0m\u001b[0;34m(\u001b[0m\u001b[0mstring\u001b[0m\u001b[0;34m)\u001b[0m\u001b[0;34m\u001b[0m\u001b[0;34m\u001b[0m\u001b[0m\n\u001b[0m\u001b[1;32m    231\u001b[0m \u001b[0;34m\u001b[0m\u001b[0m\n\u001b[1;32m    232\u001b[0m \u001b[0;32mdef\u001b[0m \u001b[0mcompile\u001b[0m\u001b[0;34m(\u001b[0m\u001b[0mpattern\u001b[0m\u001b[0;34m,\u001b[0m \u001b[0mflags\u001b[0m\u001b[0;34m=\u001b[0m\u001b[0;36m0\u001b[0m\u001b[0;34m)\u001b[0m\u001b[0;34m:\u001b[0m\u001b[0;34m\u001b[0m\u001b[0;34m\u001b[0m\u001b[0m\n",
      "\u001b[0;31mKeyboardInterrupt\u001b[0m: "
     ]
    }
   ],
   "source": [
    "# match to proteome, ignoring I/L variants\n",
    "def _create_combinations_with_isoleucines(peptide):\n",
    "    \"\"\"\n",
    "    Performs all possible combinations of string reassignment of L to I.\n",
    "    \"\"\"\n",
    "    count = peptide.count('L')\n",
    "    product = [''.join(seq) for seq in itertools.product(\"01\", repeat=count)]\n",
    "    positions = [pos for pos, char in enumerate(peptide) if char == 'L']\n",
    "    peptides = []\n",
    "    for combo in product:\n",
    "        partitioned_peptide = list(peptide)\n",
    "        for pos, item in enumerate(positions):\n",
    "            if combo[pos] == '1':\n",
    "                partitioned_peptide[item] = 'I'\n",
    "        peptides.append(''.join(partitioned_peptide))\n",
    "    return peptides\n",
    "\n",
    "unmatched = []\n",
    "for values in tqdm.tqdm_notebook([data[1] for data in unmatched_prior_to_scan.iterrows()]):\n",
    "    peptide = values['Peptide']\n",
    "    for il_variant in _create_combinations_with_isoleucines(peptide):\n",
    "        if peptide_in_reference_proteome(ref_db, il_variant):\n",
    "            unmatched.append(False)\n",
    "        else:\n",
    "            unmatched.append(True)"
   ]
  },
  {
   "cell_type": "code",
   "execution_count": null,
   "metadata": {},
   "outputs": [],
   "source": [
    "unmatched_prior_to_scan['Unmatched_de_novo'] = unmatched"
   ]
  },
  {
   "cell_type": "code",
   "execution_count": null,
   "metadata": {},
   "outputs": [],
   "source": []
  }
 ],
 "metadata": {
  "kernelspec": {
   "display_name": "Python 3",
   "language": "python",
   "name": "python3"
  },
  "language_info": {
   "codemirror_mode": {
    "name": "ipython",
    "version": 3
   },
   "file_extension": ".py",
   "mimetype": "text/x-python",
   "name": "python",
   "nbconvert_exporter": "python",
   "pygments_lexer": "ipython3",
   "version": "3.7.4"
  }
 },
 "nbformat": 4,
 "nbformat_minor": 2
}
