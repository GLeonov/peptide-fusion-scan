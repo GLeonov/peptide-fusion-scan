{
 "cells": [
  {
   "cell_type": "code",
   "execution_count": 12,
   "metadata": {},
   "outputs": [],
   "source": [
    "# Python 3.7 built-in\n",
    "import datetime\n",
    "import itertools\n",
    "import multiprocessing\n",
    "import operator\n",
    "import os\n",
    "import pathlib\n",
    "import pandas\n",
    "import random\n",
    "import re\n",
    "import shutil\n",
    "import time\n",
    "\n",
    "# additional dependencies\n",
    "import xlsxwriter      # pip3 install xslxwriter\n",
    "from Bio import SeqIO  # pip3 install biopython"
   ]
  },
  {
   "cell_type": "code",
   "execution_count": 10,
   "metadata": {},
   "outputs": [],
   "source": [
    "# parameter configuration\n",
    "results_directory = 'results'\n",
    "\n",
    "experiment_name = 'N1_Normal'\n",
    "all_denovo_file = 'data/N1_Normal/N1_Normal_all_de_novo.csv'\n",
    "db_matched_file = 'data/N1_Normal/N1_Normal_DB-matched_peptides.csv'\n",
    "reference_proteome_file = 'data/SPHu.fasta'\n",
    "\n",
    "min_peptide_length = 7\n",
    "max_peptide_length = 25\n",
    "alc_score_cutoff = 50\n",
    "\n",
    "include_PTMs = True # if True, converts C(+57.02)FKHSGTGM(+15.99)VHR to CFKHSGTGMVHR; else, skips the row in file\n",
    "\n",
    "# create working directory if it does not exist; all output will be stored here\n",
    "results_path = results_directory + os.sep + experiment_name\n",
    "pathlib.Path(results_path).mkdir(parents=True, exist_ok=True)\n"
   ]
  },
  {
   "cell_type": "code",
   "execution_count": 29,
   "metadata": {},
   "outputs": [],
   "source": [
    "# read data\n",
    "df_db_matched = pandas.read_csv(db_matched_file, dtype={'Scan': int})\n",
    "df_all_denovo = pandas.read_csv(all_denovo_file, dtype={'ALC (\\%)': int, 'Scan': int})\n",
    "ref_db = {seq.name: str(seq.seq) for seq in SeqIO.parse(reference_proteome_file, 'fasta')}\n",
    "\n",
    "# process PTMs\n",
    "if include_PTMs:\n",
    "    df_db_matched['Peptide'] = df_db_matched['Peptide'].apply(lambda x: re.sub(r'\\([^()]*\\)', '', x))\n",
    "    df_all_denovo['Peptide'] = df_all_denovo['Peptide'].apply(lambda x: re.sub(r'\\([^()]*\\)', '', x))\n",
    "else:\n",
    "    df_db_matched = df_db_matched[~df_db_matched['Peptide'].str.contains('\\+')]\n",
    "    df_all_denovo = df_all_denovo[~df_all_denovo['Peptide'].str.contains('\\+')]\n",
    "\n",
    "# save DB-matched file with razor peptides removed\n",
    "df_db_matched_no_razor_peptides = df_db_matched[df_db_matched['Accession'].apply(lambda x: str(x).count(':')) == 0]\n",
    "df_db_matched_no_razor_peptides.to_csv(results_path + os.sep + 'DB-matched_no_razor_peptides.csv', index=False)\n",
    "\n",
    "# save the unique protein IDs with razor peptides removed\n",
    "# TODO: clarify which entries to keep - i.e. do we just keep the first occurence of each duplicate protein?\n",
    "df_db_matched_no_razor_peptides_unique = df_db_matched_no_razor_peptides.drop_duplicates(subset='Accession',\n",
    "                                                                                         keep='first')\n",
    "df_db_matched_no_razor_peptides_unique.to_csv(results_path + os.sep + 'DB-matched_no_razor_peptides_unique.csv', index=False)\n",
    "\n",
    "# get all denovo scan IDs that are not found in DB-matched data\n",
    "scan_ids_not_db_matched = set(df_all_denovo['Scan'].values) - set(df_db_matched['Scan'].values)\n",
    "df_all_denovo_unmatched = df_all_denovo[df_all_denovo['Scan'].isin(scan_ids_not_db_matched)]\n",
    "df_all_denovo_unmatched.to_csv(results_path + os.sep + 'Fused_peptide_candidates.csv', index=False)\n"
   ]
  },
  {
   "cell_type": "code",
   "execution_count": null,
   "metadata": {},
   "outputs": [],
   "source": []
  }
 ],
 "metadata": {
  "kernelspec": {
   "display_name": "Python 3",
   "language": "python",
   "name": "python3"
  },
  "language_info": {
   "codemirror_mode": {
    "name": "ipython",
    "version": 3
   },
   "file_extension": ".py",
   "mimetype": "text/x-python",
   "name": "python",
   "nbconvert_exporter": "python",
   "pygments_lexer": "ipython3",
   "version": "3.7.4"
  }
 },
 "nbformat": 4,
 "nbformat_minor": 2
}
